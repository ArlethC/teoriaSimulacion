{
 "cells": [
  {
   "cell_type": "markdown",
   "id": "e0e20e62-40eb-494c-8073-0c0628b32ae5",
   "metadata": {},
   "source": [
    "# Creación de un DataFrame"
   ]
  },
  {
   "cell_type": "markdown",
   "id": "6a664f62-8679-4736-b70a-84eef323f8ea",
   "metadata": {},
   "source": [
    "### DataFrame de las ventas de productos "
   ]
  },
  {
   "cell_type": "code",
   "execution_count": 25,
   "id": "a3fb2f07-dafc-4503-bf64-346e71e5c71b",
   "metadata": {},
   "outputs": [],
   "source": [
    "import random\n",
    "import pandas as pd"
   ]
  },
  {
   "cell_type": "raw",
   "id": "fd28243a-6a80-46af-84fa-c33166c4e419",
   "metadata": {},
   "source": [
    "Creación de las listas que contienen los productos y la cantidad vendida"
   ]
  },
  {
   "cell_type": "code",
   "execution_count": 23,
   "id": "a86423ab-f6a4-417f-b3b5-c83762a23e98",
   "metadata": {
    "scrolled": true
   },
   "outputs": [],
   "source": [
    "items = ['Lechuga', 'Arroz', 'Agua', 'Azúcar', 'Pan', 'Refrescos']\n",
    "\n",
    "productos = random.choices(items, k=3000)"
   ]
  },
  {
   "cell_type": "code",
   "execution_count": 30,
   "id": "670ba888-5968-4987-bd18-8fd5c3715b29",
   "metadata": {},
   "outputs": [],
   "source": [
    "cantidad = []\n",
    "for i in range(3000):\n",
    "    cantidad.append(random.randint(1,200))"
   ]
  },
  {
   "cell_type": "markdown",
   "id": "c4db236a-43c4-4465-9c5d-b22adc49c450",
   "metadata": {},
   "source": [
    "Creación del DataFrame con los datos de las listas"
   ]
  },
  {
   "cell_type": "code",
   "execution_count": 35,
   "id": "d27a1d32-bc31-42a4-82d2-c123b7459d88",
   "metadata": {},
   "outputs": [
    {
     "data": {
      "text/html": [
       "<div>\n",
       "<style scoped>\n",
       "    .dataframe tbody tr th:only-of-type {\n",
       "        vertical-align: middle;\n",
       "    }\n",
       "\n",
       "    .dataframe tbody tr th {\n",
       "        vertical-align: top;\n",
       "    }\n",
       "\n",
       "    .dataframe thead th {\n",
       "        text-align: right;\n",
       "    }\n",
       "</style>\n",
       "<table border=\"1\" class=\"dataframe\">\n",
       "  <thead>\n",
       "    <tr style=\"text-align: right;\">\n",
       "      <th></th>\n",
       "      <th>Producto</th>\n",
       "      <th>Cantidad</th>\n",
       "    </tr>\n",
       "  </thead>\n",
       "  <tbody>\n",
       "    <tr>\n",
       "      <th>0</th>\n",
       "      <td>Lechuga</td>\n",
       "      <td>33</td>\n",
       "    </tr>\n",
       "    <tr>\n",
       "      <th>1</th>\n",
       "      <td>Lechuga</td>\n",
       "      <td>69</td>\n",
       "    </tr>\n",
       "    <tr>\n",
       "      <th>2</th>\n",
       "      <td>Pan</td>\n",
       "      <td>71</td>\n",
       "    </tr>\n",
       "    <tr>\n",
       "      <th>3</th>\n",
       "      <td>Pan</td>\n",
       "      <td>179</td>\n",
       "    </tr>\n",
       "    <tr>\n",
       "      <th>4</th>\n",
       "      <td>Azúcar</td>\n",
       "      <td>166</td>\n",
       "    </tr>\n",
       "    <tr>\n",
       "      <th>...</th>\n",
       "      <td>...</td>\n",
       "      <td>...</td>\n",
       "    </tr>\n",
       "    <tr>\n",
       "      <th>2995</th>\n",
       "      <td>Arroz</td>\n",
       "      <td>180</td>\n",
       "    </tr>\n",
       "    <tr>\n",
       "      <th>2996</th>\n",
       "      <td>Azúcar</td>\n",
       "      <td>124</td>\n",
       "    </tr>\n",
       "    <tr>\n",
       "      <th>2997</th>\n",
       "      <td>Agua</td>\n",
       "      <td>45</td>\n",
       "    </tr>\n",
       "    <tr>\n",
       "      <th>2998</th>\n",
       "      <td>Agua</td>\n",
       "      <td>125</td>\n",
       "    </tr>\n",
       "    <tr>\n",
       "      <th>2999</th>\n",
       "      <td>Azúcar</td>\n",
       "      <td>79</td>\n",
       "    </tr>\n",
       "  </tbody>\n",
       "</table>\n",
       "<p>3000 rows × 2 columns</p>\n",
       "</div>"
      ],
      "text/plain": [
       "     Producto  Cantidad\n",
       "0     Lechuga        33\n",
       "1     Lechuga        69\n",
       "2         Pan        71\n",
       "3         Pan       179\n",
       "4      Azúcar       166\n",
       "...       ...       ...\n",
       "2995    Arroz       180\n",
       "2996   Azúcar       124\n",
       "2997     Agua        45\n",
       "2998     Agua       125\n",
       "2999   Azúcar        79\n",
       "\n",
       "[3000 rows x 2 columns]"
      ]
     },
     "execution_count": 35,
     "metadata": {},
     "output_type": "execute_result"
    }
   ],
   "source": [
    "ventas = pd.DataFrame({\"Producto\": productos, \"Cantidad\": cantidad})\n",
    "ventas"
   ]
  },
  {
   "cell_type": "markdown",
   "id": "8d963b1a-72f3-4f12-863d-4d1909fd140b",
   "metadata": {},
   "source": [
    "### Resumen estadístico"
   ]
  },
  {
   "cell_type": "code",
   "execution_count": 36,
   "id": "63dbec40-d930-4ab4-8c31-accd7b718a6d",
   "metadata": {},
   "outputs": [
    {
     "data": {
      "text/html": [
       "<div>\n",
       "<style scoped>\n",
       "    .dataframe tbody tr th:only-of-type {\n",
       "        vertical-align: middle;\n",
       "    }\n",
       "\n",
       "    .dataframe tbody tr th {\n",
       "        vertical-align: top;\n",
       "    }\n",
       "\n",
       "    .dataframe thead th {\n",
       "        text-align: right;\n",
       "    }\n",
       "</style>\n",
       "<table border=\"1\" class=\"dataframe\">\n",
       "  <thead>\n",
       "    <tr style=\"text-align: right;\">\n",
       "      <th></th>\n",
       "      <th>Cantidad</th>\n",
       "    </tr>\n",
       "  </thead>\n",
       "  <tbody>\n",
       "    <tr>\n",
       "      <th>count</th>\n",
       "      <td>3000.000000</td>\n",
       "    </tr>\n",
       "    <tr>\n",
       "      <th>mean</th>\n",
       "      <td>100.542333</td>\n",
       "    </tr>\n",
       "    <tr>\n",
       "      <th>std</th>\n",
       "      <td>56.947770</td>\n",
       "    </tr>\n",
       "    <tr>\n",
       "      <th>min</th>\n",
       "      <td>1.000000</td>\n",
       "    </tr>\n",
       "    <tr>\n",
       "      <th>25%</th>\n",
       "      <td>53.000000</td>\n",
       "    </tr>\n",
       "    <tr>\n",
       "      <th>50%</th>\n",
       "      <td>100.000000</td>\n",
       "    </tr>\n",
       "    <tr>\n",
       "      <th>75%</th>\n",
       "      <td>149.000000</td>\n",
       "    </tr>\n",
       "    <tr>\n",
       "      <th>max</th>\n",
       "      <td>200.000000</td>\n",
       "    </tr>\n",
       "  </tbody>\n",
       "</table>\n",
       "</div>"
      ],
      "text/plain": [
       "          Cantidad\n",
       "count  3000.000000\n",
       "mean    100.542333\n",
       "std      56.947770\n",
       "min       1.000000\n",
       "25%      53.000000\n",
       "50%     100.000000\n",
       "75%     149.000000\n",
       "max     200.000000"
      ]
     },
     "execution_count": 36,
     "metadata": {},
     "output_type": "execute_result"
    }
   ],
   "source": [
    "ventas.describe()"
   ]
  },
  {
   "cell_type": "markdown",
   "id": "436c296d-8a00-4a9e-a643-a2d0f838c4c7",
   "metadata": {},
   "source": [
    "Resumen de las variables categóricas"
   ]
  },
  {
   "cell_type": "code",
   "execution_count": 38,
   "id": "b20297f1-e6c9-4851-ab84-254b8c302404",
   "metadata": {},
   "outputs": [
    {
     "data": {
      "text/plain": [
       "count      3000\n",
       "unique        6\n",
       "top       Arroz\n",
       "freq        524\n",
       "Name: Producto, dtype: object"
      ]
     },
     "execution_count": 38,
     "metadata": {},
     "output_type": "execute_result"
    }
   ],
   "source": [
    "ventas[\"Producto\"].describe()"
   ]
  },
  {
   "cell_type": "code",
   "execution_count": null,
   "id": "aab962fa-4a14-4587-95bb-b05468a6f10c",
   "metadata": {},
   "outputs": [],
   "source": [
    "EL conteo de cada categoría"
   ]
  },
  {
   "cell_type": "code",
   "execution_count": 39,
   "id": "cc5a0e16-577f-49ab-be6c-4487b6f8e5e4",
   "metadata": {},
   "outputs": [
    {
     "data": {
      "text/plain": [
       "Producto\n",
       "Arroz        524\n",
       "Pan          511\n",
       "Azúcar       495\n",
       "Lechuga      492\n",
       "Refrescos    491\n",
       "Agua         487\n",
       "Name: count, dtype: int64"
      ]
     },
     "execution_count": 39,
     "metadata": {},
     "output_type": "execute_result"
    }
   ],
   "source": [
    "ventas[\"Producto\"].value_counts()"
   ]
  },
  {
   "cell_type": "code",
   "execution_count": 41,
   "id": "f7ee3705-92bc-4b47-890b-2202592af634",
   "metadata": {},
   "outputs": [
    {
     "data": {
      "text/html": [
       "<div>\n",
       "<style scoped>\n",
       "    .dataframe tbody tr th:only-of-type {\n",
       "        vertical-align: middle;\n",
       "    }\n",
       "\n",
       "    .dataframe tbody tr th {\n",
       "        vertical-align: top;\n",
       "    }\n",
       "\n",
       "    .dataframe thead th {\n",
       "        text-align: right;\n",
       "    }\n",
       "</style>\n",
       "<table border=\"1\" class=\"dataframe\">\n",
       "  <thead>\n",
       "    <tr style=\"text-align: right;\">\n",
       "      <th></th>\n",
       "      <th>Producto</th>\n",
       "      <th>Cantidad</th>\n",
       "    </tr>\n",
       "  </thead>\n",
       "  <tbody>\n",
       "    <tr>\n",
       "      <th>count</th>\n",
       "      <td>3000</td>\n",
       "      <td>3000.000000</td>\n",
       "    </tr>\n",
       "    <tr>\n",
       "      <th>unique</th>\n",
       "      <td>6</td>\n",
       "      <td>NaN</td>\n",
       "    </tr>\n",
       "    <tr>\n",
       "      <th>top</th>\n",
       "      <td>Arroz</td>\n",
       "      <td>NaN</td>\n",
       "    </tr>\n",
       "    <tr>\n",
       "      <th>freq</th>\n",
       "      <td>524</td>\n",
       "      <td>NaN</td>\n",
       "    </tr>\n",
       "    <tr>\n",
       "      <th>mean</th>\n",
       "      <td>NaN</td>\n",
       "      <td>100.542333</td>\n",
       "    </tr>\n",
       "    <tr>\n",
       "      <th>std</th>\n",
       "      <td>NaN</td>\n",
       "      <td>56.947770</td>\n",
       "    </tr>\n",
       "    <tr>\n",
       "      <th>min</th>\n",
       "      <td>NaN</td>\n",
       "      <td>1.000000</td>\n",
       "    </tr>\n",
       "    <tr>\n",
       "      <th>25%</th>\n",
       "      <td>NaN</td>\n",
       "      <td>53.000000</td>\n",
       "    </tr>\n",
       "    <tr>\n",
       "      <th>50%</th>\n",
       "      <td>NaN</td>\n",
       "      <td>100.000000</td>\n",
       "    </tr>\n",
       "    <tr>\n",
       "      <th>75%</th>\n",
       "      <td>NaN</td>\n",
       "      <td>149.000000</td>\n",
       "    </tr>\n",
       "    <tr>\n",
       "      <th>max</th>\n",
       "      <td>NaN</td>\n",
       "      <td>200.000000</td>\n",
       "    </tr>\n",
       "  </tbody>\n",
       "</table>\n",
       "</div>"
      ],
      "text/plain": [
       "       Producto     Cantidad\n",
       "count      3000  3000.000000\n",
       "unique        6          NaN\n",
       "top       Arroz          NaN\n",
       "freq        524          NaN\n",
       "mean        NaN   100.542333\n",
       "std         NaN    56.947770\n",
       "min         NaN     1.000000\n",
       "25%         NaN    53.000000\n",
       "50%         NaN   100.000000\n",
       "75%         NaN   149.000000\n",
       "max         NaN   200.000000"
      ]
     },
     "execution_count": 41,
     "metadata": {},
     "output_type": "execute_result"
    }
   ],
   "source": [
    "ventas.describe(include=\"all\")"
   ]
  },
  {
   "cell_type": "code",
   "execution_count": 42,
   "id": "acde5048-50bc-44c7-8e5d-dee5a858ec13",
   "metadata": {},
   "outputs": [
    {
     "data": {
      "text/plain": [
       "array([[<Axes: title={'center': 'Cantidad'}>]], dtype=object)"
      ]
     },
     "execution_count": 42,
     "metadata": {},
     "output_type": "execute_result"
    },
    {
     "data": {
      "image/png": "[encoded data removed]",
      "text/plain": [
       "<Figure size 640x480 with 1 Axes>"
      ]
     },
     "metadata": {},
     "output_type": "display_data"
    }
   ],
   "source": [
    "ventas.hist()"
   ]
  },
  {
   "cell_type": "code",
   "execution_count": null,
   "id": "7aae49e8-e620-484b-bc76-799c8d8d8362",
   "metadata": {},
   "outputs": [],
   "source": []
  }
 ],
 "metadata": {
  "kernelspec": {
   "display_name": "Python 3 (ipykernel)",
   "language": "python",
   "name": "python3"
  },
  "language_info": {
   "codemirror_mode": {
    "name": "ipython",
    "version": 3
   },
   "file_extension": ".py",
   "mimetype": "text/x-python",
   "name": "python",
   "nbconvert_exporter": "python",
   "pygments_lexer": "ipython3",
   "version": "3.11.7"
  }
 },
 "nbformat": 4,
 "nbformat_minor": 5
}
